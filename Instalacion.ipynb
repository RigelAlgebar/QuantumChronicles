{
 "cells": [
  {
   "cell_type": "markdown",
   "metadata": {},
   "source": [
    "# Windows"
   ]
  },
  {
   "cell_type": "markdown",
   "metadata": {},
   "source": [
    "1.- Ve a google y busca: \"Anaconda Python\""
   ]
  },
  {
   "cell_type": "markdown",
   "metadata": {},
   "source": [
    "2.- Click en el link Anaconda Continuum"
   ]
  },
  {
   "cell_type": "markdown",
   "metadata": {},
   "source": [
    "3.- Ve a \"Download for free\" y selecciona \"Windows\""
   ]
  },
  {
   "cell_type": "markdown",
   "metadata": {},
   "source": [
    "4.- ¡Descarga la versión 2.7! (64 o 32 bits, lo que tu maquina tenga)"
   ]
  },
  {
   "cell_type": "markdown",
   "metadata": {},
   "source": [
    "5.- El archivo es algo pesado, puedes tardar en descragarlo..."
   ]
  },
  {
   "cell_type": "markdown",
   "metadata": {},
   "source": [
    "6.- Una vez descargado, ejecuta el archivo .exe y sigue las instrucciones. ¡Muy fácil!"
   ]
  },
  {
   "cell_type": "markdown",
   "metadata": {},
   "source": [
    "7.- Ve a inicio y busca el icono llamado: \"Anaconda commanda prompt\""
   ]
  },
  {
   "cell_type": "markdown",
   "metadata": {},
   "source": [
    "8.- Ahora verás una terminal como las de Linux y Mac"
   ]
  },
  {
   "cell_type": "markdown",
   "metadata": {},
   "source": [
    "9.- En la terminal tienes que poner el siguiente texto, ¡de forma idéntica!: \"anaconda update jupyter\""
   ]
  },
  {
   "cell_type": "markdown",
   "metadata": {},
   "source": [
    "10.- Pon \"y\" para aceptar la instalación y espera. "
   ]
  },
  {
   "cell_type": "markdown",
   "metadata": {},
   "source": [
    "11.- ¡Felicidades ya tienes tu propia iPython Notebook! Ahora revisemos que todo este en orden. Escribe en la terminal: \"python\""
   ]
  },
  {
   "cell_type": "markdown",
   "metadata": {},
   "source": [
    "12.- Bien, esta operación debería mostrarte la versión de python y anaconda que estas usando. Ahora revisemos que python funcione.\n",
    "Ingresa en la terminal: \"Hola mundo!\" \n",
    "La terminal debería devolverte ese mismo enunciado. "
   ]
  },
  {
   "cell_type": "markdown",
   "metadata": {},
   "source": [
    "13.- Para terminar revisemos si jupyter se ha instalado correctamente, ingresa en la terminal: \"jupyter notebook\". Deberías ver una pagina de inicio en tu browser de jupyter, ¡Felicidades!"
   ]
  },
  {
   "cell_type": "markdown",
   "metadata": {},
   "source": [
    "# Los que saben usan y recomienda Linux (y aveces Mac)"
   ]
  },
  {
   "cell_type": "markdown",
   "metadata": {},
   "source": [
    "1.- Ve a google y busca: \"Anaconda Python\""
   ]
  },
  {
   "cell_type": "markdown",
   "metadata": {},
   "source": [
    "2.- Click en el link Anaconda Continuum"
   ]
  },
  {
   "cell_type": "markdown",
   "metadata": {},
   "source": [
    "3.- Ve a \"Download for free\" y selecciona tu sistema operativo. Mac (OS X) o Linux (Ubuntu, Linux mint, etc.)"
   ]
  },
  {
   "cell_type": "markdown",
   "metadata": {},
   "source": [
    "4.- ¡Descarga la versión 2.7! (64 o 32 bits, lo que tu maquina tenga)"
   ]
  },
  {
   "cell_type": "code",
   "execution_count": 5,
   "metadata": {
    "collapsed": true
   },
   "outputs": [],
   "source": [
    "# Mac"
   ]
  },
  {
   "cell_type": "markdown",
   "metadata": {},
   "source": [
    "Mac 5.- Ejecuta el archivo con extensión .pkg y sigue las instrucciones en pantalla.\n",
    "\n",
    "Mac 5.T.- En tu terminal ejecuta la siguiente linea de comando: \"Anaconda2-2.4.1-MacOSX-x86_64.sh\""
   ]
  },
  {
   "cell_type": "markdown",
   "metadata": {},
   "source": [
    "6.- Revisemos que la instalación fue un exito. Ejecita en tu terminal: \"python\". Ahora ingresa: \"Hola mundo!\", la terminal debería devolverte ese mismo enunciado."
   ]
  },
  {
   "cell_type": "markdown",
   "metadata": {},
   "source": [
    "7.- Para salir de python ingresa: \"quit()\""
   ]
  },
  {
   "cell_type": "markdown",
   "metadata": {},
   "source": [
    "8.- Ahora instalamos jupyter ingresando en la terminal: \"anaconda update jupyter\""
   ]
  },
  {
   "cell_type": "markdown",
   "metadata": {},
   "source": [
    "9.- Para terminar revisemos si jupyter se ha instalado correctamente, ingresa en la terminal: \"jupyter notebook\". Deberías ver una pagina de inicio en tu browser de jupyter, ¡Felicidades!"
   ]
  },
  {
   "cell_type": "code",
   "execution_count": 6,
   "metadata": {
    "collapsed": true
   },
   "outputs": [],
   "source": [
    "# Linux "
   ]
  },
  {
   "cell_type": "markdown",
   "metadata": {},
   "source": [
    "Linux 5.- Ejecuta la siguiente linea de comando en tu terminal: \"bash Anaconda2-2.4.1-Linux-x86_64.sh\""
   ]
  },
  {
   "cell_type": "markdown",
   "metadata": {},
   "source": [
    "6.- Revisemos que la instalación fue un exito. Ejecita en tu terminal: \"python\". Ahora ingresa: \"Hola mundo!\", la terminal debería devolverte ese mismo enunciado."
   ]
  },
  {
   "cell_type": "markdown",
   "metadata": {},
   "source": [
    "7.- Para salir de python ingresa: \"quit()\""
   ]
  },
  {
   "cell_type": "markdown",
   "metadata": {},
   "source": [
    "8.- Ahora instalamos jupyter ingresando en la terminal: \"anaconda update jupyter\""
   ]
  },
  {
   "cell_type": "markdown",
   "metadata": {},
   "source": [
    "9.- Para terminar revisemos si jupyter se ha instalado correctamente, ingresa en la terminal: \"jupyter notebook\". Deberías ver una pagina de inicio en tu browser de jupyter, ¡Felicidades!"
   ]
  },
  {
   "cell_type": "code",
   "execution_count": null,
   "metadata": {
    "collapsed": true
   },
   "outputs": [],
   "source": []
  }
 ],
 "metadata": {
  "anaconda-cloud": {},
  "kernelspec": {
   "display_name": "Python [default]",
   "language": "python",
   "name": "python2"
  },
  "language_info": {
   "codemirror_mode": {
    "name": "ipython",
    "version": 2
   },
   "file_extension": ".py",
   "mimetype": "text/x-python",
   "name": "python",
   "nbconvert_exporter": "python",
   "pygments_lexer": "ipython2",
   "version": "2.7.13"
  }
 },
 "nbformat": 4,
 "nbformat_minor": 0
}
